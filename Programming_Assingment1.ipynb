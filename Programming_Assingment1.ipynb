{
 "cells": [
  {
   "cell_type": "code",
   "execution_count": 4,
   "id": "8ff5ff9b",
   "metadata": {},
   "outputs": [
    {
     "name": "stdout",
     "output_type": "stream",
     "text": [
      "Hello Python\n"
     ]
    }
   ],
   "source": [
    "#Write a Python program to print \"Hello Python\"\n",
    "\n",
    "print(\"Hello Python\")"
   ]
  },
  {
   "cell_type": "code",
   "execution_count": 7,
   "id": "59c67e06",
   "metadata": {},
   "outputs": [
    {
     "name": "stdout",
     "output_type": "stream",
     "text": [
      "Addition =  72\n",
      "Division =  8.0\n"
     ]
    }
   ],
   "source": [
    "#Write a Python program to do arithmetical operations addition and division.\n",
    "\n",
    "a , b = 64 , 8\n",
    "print('Addition = ', a+b)\n",
    "print('Division = ', a/b)"
   ]
  },
  {
   "cell_type": "code",
   "execution_count": 11,
   "id": "9505084e",
   "metadata": {},
   "outputs": [
    {
     "name": "stdout",
     "output_type": "stream",
     "text": [
      "Area of the traingle is  34.197039345533994\n"
     ]
    }
   ],
   "source": [
    "#Write a Python program to find the area of a triangle\n",
    "\n",
    "#Three Sides of triangle\n",
    "A = 8\n",
    "B = 9\n",
    "C = 10\n",
    "\n",
    "S = (A + B + C)/ 2  #Semi-perimeter\n",
    "Area = (S* (S - A) * (S - B) * (S - C)) ** 0.5\n",
    "print(\"Area of the traingle is \", Area)"
   ]
  },
  {
   "cell_type": "code",
   "execution_count": 13,
   "id": "d10e6762",
   "metadata": {},
   "outputs": [
    {
     "name": "stdout",
     "output_type": "stream",
     "text": [
      "values of a after swapping =  40\n",
      "values of b after swapping =  25\n"
     ]
    }
   ],
   "source": [
    "#Write a Python program to swap two variables\n",
    "\n",
    "a = 25\n",
    "b = 40\n",
    "\n",
    "temp = a     #Temporary variable\n",
    "a = b\n",
    "b = temp\n",
    "\n",
    "print('values of a after swapping = ', a)\n",
    "print('values of b after swapping = ', b)"
   ]
  },
  {
   "cell_type": "code",
   "execution_count": 16,
   "id": "76863bdb",
   "metadata": {},
   "outputs": [
    {
     "name": "stdout",
     "output_type": "stream",
     "text": [
      "Random number =  78\n"
     ]
    }
   ],
   "source": [
    "#Write a Python program to generate a random number\n",
    "\n",
    "import random\n",
    "\n",
    "print('Random number = ', random.randint(0,100))"
   ]
  },
  {
   "cell_type": "code",
   "execution_count": null,
   "id": "e96a0a1b",
   "metadata": {},
   "outputs": [],
   "source": []
  }
 ],
 "metadata": {
  "kernelspec": {
   "display_name": "Python 3",
   "language": "python",
   "name": "python3"
  },
  "language_info": {
   "codemirror_mode": {
    "name": "ipython",
    "version": 3
   },
   "file_extension": ".py",
   "mimetype": "text/x-python",
   "name": "python",
   "nbconvert_exporter": "python",
   "pygments_lexer": "ipython3",
   "version": "3.8.8"
  }
 },
 "nbformat": 4,
 "nbformat_minor": 5
}
